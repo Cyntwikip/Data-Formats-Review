{
 "cells": [
  {
   "cell_type": "markdown",
   "metadata": {},
   "source": [
    "by: Jude Michael Teves\n",
    "\n",
    "The CSV and XML portion are based from MSDS 2019 DMW class' Data Formats notebook."
   ]
  },
  {
   "cell_type": "markdown",
   "metadata": {
    "slideshow": {
     "slide_type": "slide"
    }
   },
   "source": [
    "## CSV"
   ]
  },
  {
   "cell_type": "markdown",
   "metadata": {
    "slideshow": {
     "slide_type": "fragment"
    }
   },
   "source": [
    "`C`omma-`s`eparated `V`alues"
   ]
  },
  {
   "cell_type": "code",
   "execution_count": 1,
   "metadata": {
    "ExecuteTime": {
     "end_time": "2018-06-22T02:45:35.278786Z",
     "start_time": "2018-06-22T02:45:33.775083Z"
    },
    "run_control": {
     "marked": false
    },
    "slideshow": {
     "slide_type": "slide"
    }
   },
   "outputs": [],
   "source": [
    "import pandas as pd\n",
    "from io import StringIO\n",
    "from pprint import pprint\n",
    "from IPython.display import display_html"
   ]
  },
  {
   "cell_type": "markdown",
   "metadata": {
    "slideshow": {
     "slide_type": "-"
    }
   },
   "source": [
    " - `io.StringIO` creates an in-memory file-like object\n",
    "     - running `read()` on a file object places the pointer at the end of the file\n",
    "     - `seek()` lets us move the pointer at any point (byte) in the file\n",
    " - `pprint` => pretty print, for Python arrays/dictionaries \n",
    " - `display_html` => to \"print\" nicely formatted dataframes"
   ]
  },
  {
   "cell_type": "markdown",
   "metadata": {
    "slideshow": {
     "slide_type": "slide"
    }
   },
   "source": [
    "### Pandas"
   ]
  },
  {
   "cell_type": "code",
   "execution_count": 2,
   "metadata": {
    "ExecuteTime": {
     "end_time": "2018-06-22T02:45:37.910958Z",
     "start_time": "2018-06-22T02:45:37.902156Z"
    },
    "run_control": {
     "marked": false
    }
   },
   "outputs": [
    {
     "data": {
      "text/plain": [
       "24"
      ]
     },
     "execution_count": 2,
     "metadata": {},
     "output_type": "execute_result"
    }
   ],
   "source": [
    "pf1 = StringIO()\n",
    "pf1.write('''1, 2, 3\n",
    "4, 5, 6\n",
    "7, 8, 9\n",
    "''')\n",
    "\n",
    "# '1,2,3\\n4,5,6\\n7,8,9\\n'"
   ]
  },
  {
   "cell_type": "markdown",
   "metadata": {},
   "source": [
    "To read the contents of the string buffer, we first have to set the pointer of the string to the first index."
   ]
  },
  {
   "cell_type": "code",
   "execution_count": 3,
   "metadata": {},
   "outputs": [
    {
     "data": {
      "text/plain": [
       "'1, 2, 3\\n4, 5, 6\\n7, 8, 9\\n'"
      ]
     },
     "execution_count": 3,
     "metadata": {},
     "output_type": "execute_result"
    }
   ],
   "source": [
    "pf1.seek(0) # sets the pointer to the first index.\n",
    "pf1.read() # reads the string buffer"
   ]
  },
  {
   "cell_type": "markdown",
   "metadata": {},
   "source": [
    "Pandas can read a string buffer as shown below"
   ]
  },
  {
   "cell_type": "code",
   "execution_count": 4,
   "metadata": {
    "ExecuteTime": {
     "end_time": "2018-06-22T02:45:54.495309Z",
     "start_time": "2018-06-22T02:45:54.430823Z"
    },
    "run_control": {
     "marked": false
    },
    "slideshow": {
     "slide_type": "-"
    }
   },
   "outputs": [
    {
     "data": {
      "text/html": [
       "<div>\n",
       "<style scoped>\n",
       "    .dataframe tbody tr th:only-of-type {\n",
       "        vertical-align: middle;\n",
       "    }\n",
       "\n",
       "    .dataframe tbody tr th {\n",
       "        vertical-align: top;\n",
       "    }\n",
       "\n",
       "    .dataframe thead th {\n",
       "        text-align: right;\n",
       "    }\n",
       "</style>\n",
       "<table border=\"1\" class=\"dataframe\">\n",
       "  <thead>\n",
       "    <tr style=\"text-align: right;\">\n",
       "      <th></th>\n",
       "      <th>0</th>\n",
       "      <th>1</th>\n",
       "      <th>2</th>\n",
       "    </tr>\n",
       "  </thead>\n",
       "  <tbody>\n",
       "    <tr>\n",
       "      <th>0</th>\n",
       "      <td>1</td>\n",
       "      <td>2</td>\n",
       "      <td>3</td>\n",
       "    </tr>\n",
       "    <tr>\n",
       "      <th>1</th>\n",
       "      <td>4</td>\n",
       "      <td>5</td>\n",
       "      <td>6</td>\n",
       "    </tr>\n",
       "    <tr>\n",
       "      <th>2</th>\n",
       "      <td>7</td>\n",
       "      <td>8</td>\n",
       "      <td>9</td>\n",
       "    </tr>\n",
       "  </tbody>\n",
       "</table>\n",
       "</div>"
      ],
      "text/plain": [
       "   0  1  2\n",
       "0  1  2  3\n",
       "1  4  5  6\n",
       "2  7  8  9"
      ]
     },
     "execution_count": 4,
     "metadata": {},
     "output_type": "execute_result"
    }
   ],
   "source": [
    "pf1.seek(0)\n",
    "pd.read_csv(pf1, header=None)"
   ]
  },
  {
   "cell_type": "markdown",
   "metadata": {},
   "source": [
    "We can also manually set where we would like to start the reading of the buffer. Note that this is the string in our buffer.\n",
    "> '1, 2, 3\\n4, 5, 6\\n7, 8, 9\\n'\n",
    "\n",
    "If we start at index=7, then we would read the following string:\n",
    "> '\\n4, 5, 6\\n7, 8, 9\\n'"
   ]
  },
  {
   "cell_type": "code",
   "execution_count": 5,
   "metadata": {},
   "outputs": [
    {
     "data": {
      "text/html": [
       "<div>\n",
       "<style scoped>\n",
       "    .dataframe tbody tr th:only-of-type {\n",
       "        vertical-align: middle;\n",
       "    }\n",
       "\n",
       "    .dataframe tbody tr th {\n",
       "        vertical-align: top;\n",
       "    }\n",
       "\n",
       "    .dataframe thead th {\n",
       "        text-align: right;\n",
       "    }\n",
       "</style>\n",
       "<table border=\"1\" class=\"dataframe\">\n",
       "  <thead>\n",
       "    <tr style=\"text-align: right;\">\n",
       "      <th></th>\n",
       "      <th>0</th>\n",
       "      <th>1</th>\n",
       "      <th>2</th>\n",
       "    </tr>\n",
       "  </thead>\n",
       "  <tbody>\n",
       "    <tr>\n",
       "      <th>0</th>\n",
       "      <td>4</td>\n",
       "      <td>5</td>\n",
       "      <td>6</td>\n",
       "    </tr>\n",
       "    <tr>\n",
       "      <th>1</th>\n",
       "      <td>7</td>\n",
       "      <td>8</td>\n",
       "      <td>9</td>\n",
       "    </tr>\n",
       "  </tbody>\n",
       "</table>\n",
       "</div>"
      ],
      "text/plain": [
       "   0  1  2\n",
       "0  4  5  6\n",
       "1  7  8  9"
      ]
     },
     "execution_count": 5,
     "metadata": {},
     "output_type": "execute_result"
    }
   ],
   "source": [
    "pf1.seek(7)\n",
    "pd.read_csv(pf1, header=None)"
   ]
  },
  {
   "cell_type": "markdown",
   "metadata": {},
   "source": [
    "We can also start at index=8\n",
    "> '4, 5, 6\\n7, 8, 9\\n'"
   ]
  },
  {
   "cell_type": "code",
   "execution_count": 6,
   "metadata": {},
   "outputs": [
    {
     "data": {
      "text/html": [
       "<div>\n",
       "<style scoped>\n",
       "    .dataframe tbody tr th:only-of-type {\n",
       "        vertical-align: middle;\n",
       "    }\n",
       "\n",
       "    .dataframe tbody tr th {\n",
       "        vertical-align: top;\n",
       "    }\n",
       "\n",
       "    .dataframe thead th {\n",
       "        text-align: right;\n",
       "    }\n",
       "</style>\n",
       "<table border=\"1\" class=\"dataframe\">\n",
       "  <thead>\n",
       "    <tr style=\"text-align: right;\">\n",
       "      <th></th>\n",
       "      <th>0</th>\n",
       "      <th>1</th>\n",
       "      <th>2</th>\n",
       "    </tr>\n",
       "  </thead>\n",
       "  <tbody>\n",
       "    <tr>\n",
       "      <th>0</th>\n",
       "      <td>4</td>\n",
       "      <td>5</td>\n",
       "      <td>6</td>\n",
       "    </tr>\n",
       "    <tr>\n",
       "      <th>1</th>\n",
       "      <td>7</td>\n",
       "      <td>8</td>\n",
       "      <td>9</td>\n",
       "    </tr>\n",
       "  </tbody>\n",
       "</table>\n",
       "</div>"
      ],
      "text/plain": [
       "   0  1  2\n",
       "0  4  5  6\n",
       "1  7  8  9"
      ]
     },
     "execution_count": 6,
     "metadata": {},
     "output_type": "execute_result"
    }
   ],
   "source": [
    "pf1.seek(8)\n",
    "pd.read_csv(pf1, header=None)"
   ]
  },
  {
   "cell_type": "markdown",
   "metadata": {},
   "source": [
    "What if the column sizes of each row is not consistent?"
   ]
  },
  {
   "cell_type": "code",
   "execution_count": 7,
   "metadata": {
    "ExecuteTime": {
     "end_time": "2018-06-22T02:51:01.664554Z",
     "start_time": "2018-06-22T02:51:01.655983Z"
    },
    "run_control": {
     "marked": false
    },
    "scrolled": true,
    "slideshow": {
     "slide_type": "slide"
    }
   },
   "outputs": [
    {
     "data": {
      "text/html": [
       "<div>\n",
       "<style scoped>\n",
       "    .dataframe tbody tr th:only-of-type {\n",
       "        vertical-align: middle;\n",
       "    }\n",
       "\n",
       "    .dataframe tbody tr th {\n",
       "        vertical-align: top;\n",
       "    }\n",
       "\n",
       "    .dataframe thead th {\n",
       "        text-align: right;\n",
       "    }\n",
       "</style>\n",
       "<table border=\"1\" class=\"dataframe\">\n",
       "  <thead>\n",
       "    <tr style=\"text-align: right;\">\n",
       "      <th></th>\n",
       "      <th>0</th>\n",
       "      <th>1</th>\n",
       "      <th>2</th>\n",
       "    </tr>\n",
       "  </thead>\n",
       "  <tbody>\n",
       "    <tr>\n",
       "      <th>0</th>\n",
       "      <td>1</td>\n",
       "      <td>2.0</td>\n",
       "      <td>3.0</td>\n",
       "    </tr>\n",
       "    <tr>\n",
       "      <th>1</th>\n",
       "      <td>4</td>\n",
       "      <td>5.0</td>\n",
       "      <td>NaN</td>\n",
       "    </tr>\n",
       "    <tr>\n",
       "      <th>2</th>\n",
       "      <td>7</td>\n",
       "      <td>NaN</td>\n",
       "      <td>NaN</td>\n",
       "    </tr>\n",
       "  </tbody>\n",
       "</table>\n",
       "</div>"
      ],
      "text/plain": [
       "   0    1    2\n",
       "0  1  2.0  3.0\n",
       "1  4  5.0  NaN\n",
       "2  7  NaN  NaN"
      ]
     },
     "execution_count": 7,
     "metadata": {},
     "output_type": "execute_result"
    }
   ],
   "source": [
    "pf2 = StringIO()\n",
    "pf2.write('''1, 2, 3\n",
    "4, 5\n",
    "7\n",
    "''')\n",
    "pf2.seek(0)\n",
    "df_csv = pd.read_csv(pf2, header=None)\n",
    "df_csv"
   ]
  },
  {
   "cell_type": "markdown",
   "metadata": {
    "slideshow": {
     "slide_type": "fragment"
    }
   },
   "source": [
    "Why are there `NaN`s in the dataframe?\n",
    "\n",
    "There are `NaN`s because the column size of the dataframe is dictated by the first row.\n",
    "\n",
    "We can also store the contents of a dataframe to a string buffer as shown below."
   ]
  },
  {
   "cell_type": "code",
   "execution_count": 8,
   "metadata": {
    "ExecuteTime": {
     "end_time": "2018-06-22T02:52:59.684808Z",
     "start_time": "2018-06-22T02:52:59.681445Z"
    },
    "run_control": {
     "marked": false
    },
    "scrolled": true,
    "slideshow": {
     "slide_type": "subslide"
    }
   },
   "outputs": [
    {
     "name": "stdout",
     "output_type": "stream",
     "text": [
      "1,2.0,3.0\n",
      "4,5.0,\n",
      "7,,\n",
      "\n"
     ]
    },
    {
     "data": {
      "text/plain": [
       "'1,2.0,3.0\\n4,5.0,\\n7,,\\n'"
      ]
     },
     "execution_count": 8,
     "metadata": {},
     "output_type": "execute_result"
    }
   ],
   "source": [
    "pf3 = StringIO()\n",
    "df_csv.to_csv(pf3, index=False, header=False)\n",
    "pf3.seek(0)\n",
    "print(pf3.read())\n",
    "pf3.seek(0)\n",
    "pf3.read()"
   ]
  },
  {
   "cell_type": "markdown",
   "metadata": {
    "slideshow": {
     "slide_type": "fragment"
    }
   },
   "source": [
    "Why is the output different from the original csv?\n",
    "\n",
    "When the string was put into a dataframe, some numbers turned into float and the null values were comma-separated.\n",
    "\n",
    "---\n",
    "\n",
    "If the column sizes are uneven, it will follow the size of the first column and will only read the rows that has equal or lower column size."
   ]
  },
  {
   "cell_type": "code",
   "execution_count": 9,
   "metadata": {
    "ExecuteTime": {
     "end_time": "2018-06-22T02:56:43.116564Z",
     "start_time": "2018-06-22T02:56:43.107525Z"
    },
    "run_control": {
     "marked": false
    },
    "slideshow": {
     "slide_type": "slide"
    }
   },
   "outputs": [
    {
     "name": "stderr",
     "output_type": "stream",
     "text": [
      "b'Skipping line 2: expected 1 fields, saw 2\\nSkipping line 3: expected 1 fields, saw 3\\n'\n"
     ]
    },
    {
     "data": {
      "text/html": [
       "<div>\n",
       "<style scoped>\n",
       "    .dataframe tbody tr th:only-of-type {\n",
       "        vertical-align: middle;\n",
       "    }\n",
       "\n",
       "    .dataframe tbody tr th {\n",
       "        vertical-align: top;\n",
       "    }\n",
       "\n",
       "    .dataframe thead th {\n",
       "        text-align: right;\n",
       "    }\n",
       "</style>\n",
       "<table border=\"1\" class=\"dataframe\">\n",
       "  <thead>\n",
       "    <tr style=\"text-align: right;\">\n",
       "      <th></th>\n",
       "      <th>0</th>\n",
       "    </tr>\n",
       "  </thead>\n",
       "  <tbody>\n",
       "    <tr>\n",
       "      <th>0</th>\n",
       "      <td>1</td>\n",
       "    </tr>\n",
       "  </tbody>\n",
       "</table>\n",
       "</div>"
      ],
      "text/plain": [
       "   0\n",
       "0  1"
      ]
     },
     "execution_count": 9,
     "metadata": {},
     "output_type": "execute_result"
    }
   ],
   "source": [
    "pf4 = StringIO()\n",
    "pf4.write('''1\n",
    "2, 3\n",
    "4, 5, 6\n",
    "''')\n",
    "pf4.seek(0)\n",
    "df_csv = pd.read_csv(pf4, header=None, error_bad_lines=False)\n",
    "df_csv"
   ]
  },
  {
   "cell_type": "code",
   "execution_count": 10,
   "metadata": {},
   "outputs": [
    {
     "name": "stderr",
     "output_type": "stream",
     "text": [
      "b'Skipping line 2: expected 1 fields, saw 2\\nSkipping line 3: expected 1 fields, saw 3\\n'\n"
     ]
    },
    {
     "data": {
      "text/html": [
       "<div>\n",
       "<style scoped>\n",
       "    .dataframe tbody tr th:only-of-type {\n",
       "        vertical-align: middle;\n",
       "    }\n",
       "\n",
       "    .dataframe tbody tr th {\n",
       "        vertical-align: top;\n",
       "    }\n",
       "\n",
       "    .dataframe thead th {\n",
       "        text-align: right;\n",
       "    }\n",
       "</style>\n",
       "<table border=\"1\" class=\"dataframe\">\n",
       "  <thead>\n",
       "    <tr style=\"text-align: right;\">\n",
       "      <th></th>\n",
       "      <th>0</th>\n",
       "    </tr>\n",
       "  </thead>\n",
       "  <tbody>\n",
       "    <tr>\n",
       "      <th>0</th>\n",
       "      <td>1</td>\n",
       "    </tr>\n",
       "    <tr>\n",
       "      <th>1</th>\n",
       "      <td>9</td>\n",
       "    </tr>\n",
       "  </tbody>\n",
       "</table>\n",
       "</div>"
      ],
      "text/plain": [
       "   0\n",
       "0  1\n",
       "1  9"
      ]
     },
     "execution_count": 10,
     "metadata": {},
     "output_type": "execute_result"
    }
   ],
   "source": [
    "pf4 = StringIO()\n",
    "pf4.write('''1\n",
    "2, 3\n",
    "4, 5, 6\n",
    "9\n",
    "''')\n",
    "pf4.seek(0)\n",
    "df_csv = pd.read_csv(pf4, header=None, error_bad_lines=False)\n",
    "df_csv"
   ]
  },
  {
   "cell_type": "code",
   "execution_count": 11,
   "metadata": {},
   "outputs": [
    {
     "name": "stderr",
     "output_type": "stream",
     "text": [
      "b'Skipping line 3: expected 2 fields, saw 3\\n'\n"
     ]
    },
    {
     "data": {
      "text/html": [
       "<div>\n",
       "<style scoped>\n",
       "    .dataframe tbody tr th:only-of-type {\n",
       "        vertical-align: middle;\n",
       "    }\n",
       "\n",
       "    .dataframe tbody tr th {\n",
       "        vertical-align: top;\n",
       "    }\n",
       "\n",
       "    .dataframe thead th {\n",
       "        text-align: right;\n",
       "    }\n",
       "</style>\n",
       "<table border=\"1\" class=\"dataframe\">\n",
       "  <thead>\n",
       "    <tr style=\"text-align: right;\">\n",
       "      <th></th>\n",
       "      <th>0</th>\n",
       "      <th>1</th>\n",
       "    </tr>\n",
       "  </thead>\n",
       "  <tbody>\n",
       "    <tr>\n",
       "      <th>0</th>\n",
       "      <td>1</td>\n",
       "      <td>0.0</td>\n",
       "    </tr>\n",
       "    <tr>\n",
       "      <th>1</th>\n",
       "      <td>2</td>\n",
       "      <td>3.0</td>\n",
       "    </tr>\n",
       "    <tr>\n",
       "      <th>2</th>\n",
       "      <td>9</td>\n",
       "      <td>NaN</td>\n",
       "    </tr>\n",
       "  </tbody>\n",
       "</table>\n",
       "</div>"
      ],
      "text/plain": [
       "   0    1\n",
       "0  1  0.0\n",
       "1  2  3.0\n",
       "2  9  NaN"
      ]
     },
     "execution_count": 11,
     "metadata": {},
     "output_type": "execute_result"
    }
   ],
   "source": [
    "pf4 = StringIO()\n",
    "pf4.write('''1,0\n",
    "2, 3\n",
    "4, 5, 6\n",
    "9\n",
    "''')\n",
    "pf4.seek(0)\n",
    "df_csv = pd.read_csv(pf4, header=None, error_bad_lines=False)\n",
    "df_csv"
   ]
  },
  {
   "cell_type": "markdown",
   "metadata": {
    "slideshow": {
     "slide_type": "slide"
    }
   },
   "source": [
    "### Writing CSV"
   ]
  },
  {
   "cell_type": "code",
   "execution_count": 12,
   "metadata": {
    "ExecuteTime": {
     "end_time": "2018-06-22T02:57:29.295843Z",
     "start_time": "2018-06-22T02:57:29.293553Z"
    },
    "run_control": {
     "marked": false
    },
    "slideshow": {
     "slide_type": "-"
    }
   },
   "outputs": [],
   "source": [
    "import csv"
   ]
  },
  {
   "cell_type": "code",
   "execution_count": 13,
   "metadata": {
    "ExecuteTime": {
     "end_time": "2018-06-22T02:57:35.254420Z",
     "start_time": "2018-06-22T02:57:35.251378Z"
    },
    "run_control": {
     "marked": false
    },
    "slideshow": {
     "slide_type": "slide"
    }
   },
   "outputs": [],
   "source": [
    "a = [\n",
    "    [1, 1.2, \"a\", None],\n",
    "    ['''Multi-line\n",
    "string''', 'string with \"', 'string with ,'],\n",
    "    [[1, 2], {'a': 1, 'b': 2}]\n",
    "]"
   ]
  },
  {
   "cell_type": "code",
   "execution_count": 14,
   "metadata": {
    "ExecuteTime": {
     "end_time": "2018-06-22T02:59:01.532853Z",
     "start_time": "2018-06-22T02:59:01.528772Z"
    },
    "run_control": {
     "marked": false
    },
    "slideshow": {
     "slide_type": "subslide"
    }
   },
   "outputs": [
    {
     "data": {
      "text/plain": [
       "['excel', 'excel-tab', 'unix']"
      ]
     },
     "execution_count": 14,
     "metadata": {},
     "output_type": "execute_result"
    }
   ],
   "source": [
    "csv.list_dialects()"
   ]
  },
  {
   "cell_type": "markdown",
   "metadata": {},
   "source": [
    "What's the difference between the CSV dialects?\n",
    "\n",
    "- Unix just uses \\n\n",
    "- Excel(Windows) uses \\r\\n\n",
    "- excel is comma-separated, excel-tab is... uhm. tab\n",
    "\n",
    "\n",
    "\n"
   ]
  },
  {
   "cell_type": "code",
   "execution_count": 15,
   "metadata": {
    "ExecuteTime": {
     "end_time": "2018-06-22T03:01:21.620164Z",
     "start_time": "2018-06-22T03:01:21.617583Z"
    },
    "run_control": {
     "marked": false
    },
    "slideshow": {
     "slide_type": "subslide"
    }
   },
   "outputs": [],
   "source": [
    "cf1 = StringIO()\n",
    "writer = csv.writer(cf1, dialect='excel')\n",
    "writer.writerows(a)"
   ]
  },
  {
   "cell_type": "code",
   "execution_count": 16,
   "metadata": {
    "ExecuteTime": {
     "end_time": "2018-06-22T03:01:23.560621Z",
     "start_time": "2018-06-22T03:01:23.556648Z"
    },
    "run_control": {
     "marked": false
    },
    "slideshow": {
     "slide_type": "-"
    }
   },
   "outputs": [
    {
     "name": "stdout",
     "output_type": "stream",
     "text": [
      "'1,1.2,a,\\r\\n\"Multi-line\\nstring\",\"string with \"\"\",\"string with ,\"\\r\\n\"[1, 2]\",\"{\\'a\\': 1, \\'b\\': 2}\"\\r\\n'\n",
      "-----\n",
      "1,1.2,a,\r\n",
      "\"Multi-line\n",
      "string\",\"string with \"\"\",\"string with ,\"\r\n",
      "\"[1, 2]\",\"{'a': 1, 'b': 2}\"\r\n",
      "\n"
     ]
    }
   ],
   "source": [
    "cf1.seek(0)\n",
    "csv_str = cf1.read()\n",
    "print(repr(csv_str))\n",
    "print('-----')\n",
    "print(csv_str)"
   ]
  },
  {
   "cell_type": "markdown",
   "metadata": {
    "slideshow": {
     "slide_type": "fragment"
    }
   },
   "source": [
    "What do you notice about the CSV output?\n",
    "- The first output is the string representation of the text. The newlines become \\r\\n(in Windows) or \\n (in Unix).\n",
    "- The second output is just the printed text in the csv."
   ]
  },
  {
   "cell_type": "code",
   "execution_count": 17,
   "metadata": {
    "ExecuteTime": {
     "end_time": "2018-06-22T03:07:07.438960Z",
     "start_time": "2018-06-22T03:07:07.434155Z"
    },
    "run_control": {
     "marked": false
    },
    "slideshow": {
     "slide_type": "slide"
    }
   },
   "outputs": [
    {
     "name": "stdout",
     "output_type": "stream",
     "text": [
      "[['1', '1.2', 'a', ''],\n",
      " ['Multi-line\\nstring', 'string with \"', 'string with ,'],\n",
      " ['[1, 2]', \"{'a': 1, 'b': 2}\"]]\n"
     ]
    }
   ],
   "source": [
    "cf1.seek(0)\n",
    "reader = csv.reader(cf1)\n",
    "csv_arr = list(reader)\n",
    "pprint(csv_arr)"
   ]
  },
  {
   "cell_type": "markdown",
   "metadata": {},
   "source": [
    "What's the difference of this output compared to the original CSV?\n",
    "\n",
    "In here, the csv was turned into a list."
   ]
  },
  {
   "cell_type": "markdown",
   "metadata": {
    "slideshow": {
     "slide_type": "fragment"
    }
   },
   "source": [
    "`CSV` doesn't have data types!"
   ]
  },
  {
   "cell_type": "code",
   "execution_count": 18,
   "metadata": {
    "ExecuteTime": {
     "end_time": "2018-06-22T03:18:24.399558Z",
     "start_time": "2018-06-22T03:18:24.389636Z"
    },
    "run_control": {
     "marked": false
    },
    "slideshow": {
     "slide_type": "slide"
    }
   },
   "outputs": [
    {
     "name": "stdout",
     "output_type": "stream",
     "text": [
      "[['1'],\n",
      " ['2', '3'],\n",
      " ['4', '5', '6']]\n"
     ]
    },
    {
     "data": {
      "text/html": [
       "<div>\n",
       "<style scoped>\n",
       "    .dataframe tbody tr th:only-of-type {\n",
       "        vertical-align: middle;\n",
       "    }\n",
       "\n",
       "    .dataframe tbody tr th {\n",
       "        vertical-align: top;\n",
       "    }\n",
       "\n",
       "    .dataframe thead th {\n",
       "        text-align: right;\n",
       "    }\n",
       "</style>\n",
       "<table border=\"1\" class=\"dataframe\">\n",
       "  <thead>\n",
       "    <tr style=\"text-align: right;\">\n",
       "      <th></th>\n",
       "      <th>0</th>\n",
       "      <th>1</th>\n",
       "      <th>2</th>\n",
       "    </tr>\n",
       "  </thead>\n",
       "  <tbody>\n",
       "    <tr>\n",
       "      <th>0</th>\n",
       "      <td>1</td>\n",
       "      <td>None</td>\n",
       "      <td>None</td>\n",
       "    </tr>\n",
       "    <tr>\n",
       "      <th>1</th>\n",
       "      <td>2</td>\n",
       "      <td>3</td>\n",
       "      <td>None</td>\n",
       "    </tr>\n",
       "    <tr>\n",
       "      <th>2</th>\n",
       "      <td>4</td>\n",
       "      <td>5</td>\n",
       "      <td>6</td>\n",
       "    </tr>\n",
       "  </tbody>\n",
       "</table>\n",
       "</div>"
      ]
     },
     "metadata": {},
     "output_type": "display_data"
    },
    {
     "name": "stdout",
     "output_type": "stream",
     "text": [
      "0    object\n",
      "1    object\n",
      "2    object\n",
      "dtype: object\n"
     ]
    }
   ],
   "source": [
    "# Different number of columns per row\n",
    "\n",
    "b = [[1],\n",
    "    [2, 3],\n",
    "    [4, 5, 6]\n",
    "]\n",
    "cf2 = StringIO()\n",
    "writer = csv.writer(cf2)\n",
    "writer.writerows(b)\n",
    "\n",
    "\n",
    "cf2.seek(0)\n",
    "reader = csv.reader(cf2)\n",
    "csv_r = list(reader)\n",
    "pprint(csv_r, width=20)\n",
    "\n",
    "df_csv = pd.DataFrame(csv_r)\n",
    "display_html(df_csv)\n",
    "print(df_csv.dtypes)"
   ]
  },
  {
   "cell_type": "markdown",
   "metadata": {
    "slideshow": {
     "slide_type": "fragment"
    }
   },
   "source": [
    "`csv.writer` and `csv.reader` works per row  \n",
    "&nbsp;&nbsp;&rightarrow; different number of columns per row doesn't matter"
   ]
  },
  {
   "cell_type": "markdown",
   "metadata": {
    "slideshow": {
     "slide_type": "slide"
    }
   },
   "source": [
    "## CSV Specification (RFC 4180)\n",
    "\n",
    "   1.  Each record is located on a separate line, delimited by a line\n",
    "       break\n",
    "   2.  The last record in the file may or may not have an ending line\n",
    "       break.\n",
    "   3.  There maybe an optional header line appearing as the first line\n",
    "       of the file with the same format as normal record lines.\n",
    "   4.  Within the header and each record, \n",
    "       1. there may be one or more fields, separated by commas\n",
    "       1. Each line should contain the same number of fields throughout the file\n",
    "       1. Spaces are considered part of a field and should not be ignored\n",
    "       1. The last field in the record must not be followed by a comma\n",
    "   5.  Each field may or may not be enclosed in double quotes.\n",
    "       If fields are not enclosed with double quotes, then\n",
    "       double quotes may not appear inside the fields.\n",
    "   6.  Fields containing line breaks, double quotes, and commas\n",
    "       should be enclosed in double-quotes.\n",
    "   7.  If double-quotes are used to enclose fields, then a double-quote\n",
    "       appearing inside a field must be escaped by preceding it with\n",
    "       another double quote.\n",
    "\n",
    "<footer>https://tools.ietf.org/html/rfc4180</footer>"
   ]
  },
  {
   "cell_type": "markdown",
   "metadata": {
    "slideshow": {
     "slide_type": "slide"
    }
   },
   "source": [
    " ## XML"
   ]
  },
  {
   "cell_type": "markdown",
   "metadata": {
    "slideshow": {
     "slide_type": "fragment"
    }
   },
   "source": [
    "e`X`tensible `M`arkup `L`anguage"
   ]
  },
  {
   "cell_type": "markdown",
   "metadata": {
    "slideshow": {
     "slide_type": "fragment"
    }
   },
   "source": [
    "### Markup\n",
    " - **a system for marking or tagging a document that indicates its logical structure**\n",
    " - **derived from the traditional publishing practice of \"marking up\" a manuscript**\n",
    "\n",
    "<footer>https://www.merriam-webster.com/dictionary/markup+language  \n",
    "https://en.wikipedia.org/wiki/Markup_language\n",
    "</footer>"
   ]
  },
  {
   "cell_type": "markdown",
   "metadata": {
    "ExecuteTime": {
     "end_time": "2018-06-17T06:49:16.286808Z",
     "start_time": "2018-06-17T06:49:16.280912Z"
    },
    "slideshow": {
     "slide_type": "slide"
    }
   },
   "source": [
    "Copy example XML from https://msdn.microsoft.com/en-us/library/ms762271(v=vs.85).aspx (also available in BlackBoard under DMW -> Data Formats)\n",
    "\n",
    "```xml\n",
    "<?xml version=\"1.0\"?>\n",
    "<catalog>\n",
    "    <book id=\"bk101\">\n",
    "        <author>Gambardella, Matthew</author>\n",
    "        <title>XML Developer's Guide</title>\n",
    "        <genre>Computer</genre>\n",
    "        <price>44.95</price>\n",
    "        <publish_date>2000-10-01</publish_date>\n",
    "        <description>An in-depth look at creating applications\n",
    "            with XML.</description>\n",
    "    </book>\n",
    "    <book id=\"bk102\">\n",
    "        <author>Ralls, Kim</author>\n",
    "        <title>Midnight Rain</title>\n",
    "        <genre>Fantasy</genre>\n",
    "        <price>5.95</price>\n",
    "        <publish_date>2000-12-16</publish_date>\n",
    "        <description>A former architect battles corporate zombies,\n",
    "            an evil sorceress, and her own childhood to become queen\n",
    "            of the world.</description>\n",
    "    </book>\n",
    "   ... \n",
    "</catalog>\n",
    "```\n",
    "\n",
    "or for a larger XML file, http://api.worldbank.org/v2/en/indicator/SP.POP.TOTL?downloadformat=xml\n",
    "```xml\n",
    "<?xml version=\"1.0\" encoding=\"utf-8\"?>\n",
    "<Root xmlns:wb=\"http://www.worldbank.org\">\n",
    "  <data>\n",
    "    <record>\n",
    "      <field name=\"Country or Area\" key=\"ABW\">Aruba</field>\n",
    "      <field name=\"Item\" key=\"SP.POP.TOTL\">Population, total</field>\n",
    "      <field name=\"Year\">1960</field>\n",
    "      <field name=\"Value\">54211</field>\n",
    "    </record>\n",
    "    <record>\n",
    "      <field name=\"Country or Area\" key=\"ABW\">Aruba</field>\n",
    "      <field name=\"Item\" key=\"SP.POP.TOTL\">Population, total</field>\n",
    "      <field name=\"Year\">1961</field>\n",
    "      <field name=\"Value\">55438</field>\n",
    "    </record>\n",
    "    ...\n",
    "  </data>\n",
    "</Root>\n",
    "```\n",
    "\n"
   ]
  },
  {
   "cell_type": "code",
   "execution_count": 19,
   "metadata": {
    "ExecuteTime": {
     "end_time": "2018-06-22T03:22:37.148797Z",
     "start_time": "2018-06-22T03:22:37.134118Z"
    },
    "run_control": {
     "marked": false
    },
    "slideshow": {
     "slide_type": "slide"
    }
   },
   "outputs": [],
   "source": [
    "from xml.etree import ElementTree"
   ]
  },
  {
   "cell_type": "code",
   "execution_count": 20,
   "metadata": {
    "ExecuteTime": {
     "end_time": "2018-06-22T03:25:08.223026Z",
     "start_time": "2018-06-22T03:25:08.216746Z"
    },
    "run_control": {
     "marked": false
    },
    "slideshow": {
     "slide_type": "subslide"
    }
   },
   "outputs": [
    {
     "data": {
      "text/plain": [
       "'catalog'"
      ]
     },
     "execution_count": 20,
     "metadata": {},
     "output_type": "execute_result"
    }
   ],
   "source": [
    "tree = ElementTree.parse('catalog.xml')\n",
    "root = tree.getroot()\n",
    "root.tag"
   ]
  },
  {
   "cell_type": "markdown",
   "metadata": {},
   "source": [
    "root is the topmost layer of the xml. We can use the following properties to check the details of any node:\n",
    "- tag\n",
    "- attrib\n",
    "- text\n",
    "\n",
    "To check the contents, we can get its children."
   ]
  },
  {
   "cell_type": "code",
   "execution_count": 21,
   "metadata": {},
   "outputs": [
    {
     "name": "stdout",
     "output_type": "stream",
     "text": [
      "Tag name: catalog\n",
      "Attributes: {}\n",
      "Text: \n",
      "    \n",
      "[<Element 'book' at 0x0000022AE2434688>,\n",
      " <Element 'book' at 0x0000022AE2468368>,\n",
      " <Element 'book' at 0x0000022AE24685E8>,\n",
      " <Element 'book' at 0x0000022AE2468818>,\n",
      " <Element 'book' at 0x0000022AE2468A98>,\n",
      " <Element 'book' at 0x0000022AE2468D18>,\n",
      " <Element 'book' at 0x0000022AE2468F48>,\n",
      " <Element 'book' at 0x0000022AE246A1D8>,\n",
      " <Element 'book' at 0x0000022AE246A408>,\n",
      " <Element 'book' at 0x0000022AE246A688>,\n",
      " <Element 'book' at 0x0000022AE246A8B8>,\n",
      " <Element 'book' at 0x0000022AE246AB88>]\n"
     ]
    }
   ],
   "source": [
    "print('Tag name:', root.tag)\n",
    "print('Attributes:', root.attrib)\n",
    "print('Text:', root.text)\n",
    "\n",
    "pprint(root.getchildren())"
   ]
  },
  {
   "cell_type": "markdown",
   "metadata": {},
   "source": [
    "We can do the same for the children nodes."
   ]
  },
  {
   "cell_type": "code",
   "execution_count": 22,
   "metadata": {
    "ExecuteTime": {
     "end_time": "2018-06-22T03:35:05.410508Z",
     "start_time": "2018-06-22T03:35:05.404404Z"
    },
    "run_control": {
     "marked": false
    }
   },
   "outputs": [
    {
     "name": "stdout",
     "output_type": "stream",
     "text": [
      "Tag name: book\n",
      "Attributes: {'id': 'bk101'}\n",
      "Text: \n",
      "        \n",
      "[<Element 'author' at 0x0000022AE2434458>,\n",
      " <Element 'title' at 0x0000022AE24681D8>,\n",
      " <Element 'genre' at 0x0000022AE2468228>,\n",
      " <Element 'price' at 0x0000022AE2468278>,\n",
      " <Element 'publish_date' at 0x0000022AE24682C8>,\n",
      " <Element 'description' at 0x0000022AE2468318>]\n"
     ]
    }
   ],
   "source": [
    "print('Tag name:', root[0].tag)\n",
    "print('Attributes:', root[0].attrib)\n",
    "print('Text:', root[0].text)\n",
    "\n",
    "pprint(root[0].getchildren())"
   ]
  },
  {
   "cell_type": "markdown",
   "metadata": {},
   "source": [
    "As seen above, the first element of book is the author. To get all the authors of every book, we can do the following."
   ]
  },
  {
   "cell_type": "code",
   "execution_count": 23,
   "metadata": {
    "ExecuteTime": {
     "end_time": "2018-06-22T03:36:41.910647Z",
     "start_time": "2018-06-22T03:36:41.906829Z"
    }
   },
   "outputs": [
    {
     "name": "stdout",
     "output_type": "stream",
     "text": [
      "'Gambardella, Matthew'\n",
      "'Ralls, Kim'\n",
      "'Corets, Eva'\n",
      "'Corets, Eva'\n",
      "'Corets, Eva'\n",
      "'Randall, Cynthia'\n",
      "'Thurman, Paula'\n",
      "'Knorr, Stefan'\n",
      "'Kress, Peter'\n",
      "\"O'Brien, Tim\"\n",
      "\"O'Brien, Tim\"\n",
      "'Galos, Mike'\n"
     ]
    }
   ],
   "source": [
    "for i in root:\n",
    "    pprint(i[0].text)"
   ]
  },
  {
   "cell_type": "markdown",
   "metadata": {},
   "source": [
    "We can do the same for title."
   ]
  },
  {
   "cell_type": "code",
   "execution_count": 24,
   "metadata": {},
   "outputs": [
    {
     "name": "stdout",
     "output_type": "stream",
     "text": [
      "\"XML Developer's Guide\"\n",
      "'Midnight Rain'\n",
      "'Maeve Ascendant'\n",
      "\"Oberon's Legacy\"\n",
      "'The Sundered Grail'\n",
      "'Lover Birds'\n",
      "'Splish Splash'\n",
      "'Creepy Crawlies'\n",
      "'Paradox Lost'\n",
      "'Microsoft .NET: The Programming Bible'\n",
      "'MSXML3: A Comprehensive Guide'\n",
      "'Visual Studio 7: A Comprehensive Guide'\n"
     ]
    }
   ],
   "source": [
    "for i in root:\n",
    "    pprint(i[1].text)"
   ]
  },
  {
   "cell_type": "markdown",
   "metadata": {
    "slideshow": {
     "slide_type": "slide"
    }
   },
   "source": [
    "### XPATH\n",
    "Path expressions for navigating through a XML document\n",
    "\n",
    "<table border=\"1\">\n",
    "  <colgroup>\n",
    "    <col width=\"20%\">\n",
    "    <col width=\"70%\">\n",
    "  </colgroup>\n",
    "  <thead valign=\"bottom\">\n",
    "  <tr><th>Syntax</th>\n",
    "    <th>Meaning</th>\n",
    "  </tr>\n",
    "  </thead>\n",
    "  <tbody valign=\"top\">\n",
    "  <tr><td><code><span>tag</span></code></td>\n",
    "    <td>Selects all child elements with the given tag.\n",
    "      For example, <code><span>spam</span></code> selects all child elements\n",
    "      named <code><span>spam</span></code>, and <code><span>spam/egg</span></code> selects all\n",
    "      grandchildren named <code><span>egg</span></code> in all children named\n",
    "      <code><span>spam</span></code>.</td>\n",
    "  </tr>\n",
    "  <tr><td><code><span>\\*</span></code></td>\n",
    "    <td>Selects all child elements.  For example, <code><span>*/egg</span></code>\n",
    "      selects all grandchildren named <code><span>egg</span></code>.</td>\n",
    "  </tr>\n",
    "  <tr><td><code><span>.</span></code></td>\n",
    "    <td>Selects the current node.  This is mostly useful\n",
    "      at the beginning of the path, to indicate that it’s\n",
    "      a relative path.</td>\n",
    "  </tr>\n",
    "  <tr><td><code><span>//</span></code></td>\n",
    "    <td>Selects all subelements, on all levels beneath the\n",
    "      current  element.  For example, <code><span>.//egg</span></code> selects\n",
    "      all <code><span>egg</span></code> elements in the entire tree.</td>\n",
    "  </tr>\n",
    "  <tr><td><code><span>..</span></code></td>\n",
    "    <td>Selects the parent element.</td>\n",
    "  </tr>\n",
    "  <tr><td><code><span>[@attrib]</span></code></td>\n",
    "    <td>Selects all elements that have the given attribute.</td>\n",
    "  </tr>\n",
    "  <tr><td><code><span>[@attrib='value']</span></code></td>\n",
    "    <td>Selects all elements for which the given attribute\n",
    "      has the given value.  The value cannot contain\n",
    "      quotes.</td>\n",
    "  </tr>\n",
    "  <tr><td><code><span>[tag]</span></code></td>\n",
    "    <td>Selects all elements that have a child named\n",
    "      <code><span>tag</span></code>.  Only immediate children are supported.</td>\n",
    "  </tr>\n",
    "  <tr><td><code><span>[tag='text']</span></code></td>\n",
    "    <td>Selects all elements that have a child named\n",
    "      <code><span>tag</span></code> whose complete text content, including\n",
    "      descendants, equals the given <code><span>text</span></code>.</td>\n",
    "  </tr>\n",
    "  <tr><td><code><span>[position]</span></code></td>\n",
    "    <td>Selects all elements that are located at the given\n",
    "      position.  The position can be either an integer\n",
    "      (1 is the first position), the expression <code><span>last()</span></code>\n",
    "      (for the last position), or a position relative to\n",
    "      the last position (e.g. <code><span>last()-1</span></code>).</td>\n",
    "  </tr>\n",
    "  </tbody>\n",
    "</table>"
   ]
  },
  {
   "cell_type": "code",
   "execution_count": 25,
   "metadata": {
    "ExecuteTime": {
     "end_time": "2018-06-22T03:45:03.689997Z",
     "start_time": "2018-06-22T03:45:03.686223Z"
    },
    "run_control": {
     "marked": false
    }
   },
   "outputs": [
    {
     "name": "stdout",
     "output_type": "stream",
     "text": [
      "1\n",
      "<book id=\"bk101\">\n",
      "        <author>Gambardella, Matthew</author>\n",
      "        <title>XML Developer's Guide</title>\n",
      "        <genre>Computer</genre>\n",
      "        <price>44.95</price>\n",
      "        <publish_date>2000-10-01</publish_date>\n",
      "        <description>An in-depth look at creating applications\n",
      "            with XML.</description>\n",
      "    </book>\n",
      "    \n"
     ]
    }
   ],
   "source": [
    "res = root.findall(\"book[@id='bk101']\")\n",
    "print(len(res))\n",
    "print(ElementTree.tostring(res[0]).decode('utf8'))"
   ]
  },
  {
   "cell_type": "markdown",
   "metadata": {},
   "source": [
    "To get all the titles with Eva Corets as author, we can use the following command."
   ]
  },
  {
   "cell_type": "code",
   "execution_count": 26,
   "metadata": {},
   "outputs": [
    {
     "name": "stdout",
     "output_type": "stream",
     "text": [
      "3\n",
      "Maeve Ascendant\n",
      "Oberon's Legacy\n",
      "The Sundered Grail\n"
     ]
    }
   ],
   "source": [
    "res = root.findall(\"book[author='Corets, Eva']\")\n",
    "print(len(res))\n",
    "for i in res:\n",
    "    print(i[1].text)"
   ]
  },
  {
   "cell_type": "markdown",
   "metadata": {},
   "source": [
    "Read more, https://tools.ietf.org/html/rfc4825"
   ]
  },
  {
   "cell_type": "markdown",
   "metadata": {},
   "source": [
    "## RegEx\n",
    "\n",
    "![Regex](Python Regex Cheatsheet.png)"
   ]
  },
  {
   "cell_type": "code",
   "execution_count": 27,
   "metadata": {},
   "outputs": [],
   "source": [
    "import re"
   ]
  },
  {
   "cell_type": "markdown",
   "metadata": {},
   "source": [
    "**re.match**<br>\n",
    "\n",
    "checks if the pattern matches the string. The pattern must occur at the start of the string. It returns the matched word. If the regex has a capturing group, denoted by `()`, then re.match will return the substrings that match the pattern inside the parenthesis `()`"
   ]
  },
  {
   "cell_type": "code",
   "execution_count": 28,
   "metadata": {},
   "outputs": [
    {
     "name": "stdout",
     "output_type": "stream",
     "text": [
      "None\n",
      "I am\n",
      "('I', 'Jude Jude Jude lala')\n",
      "('Jude',)\n"
     ]
    }
   ],
   "source": [
    "text = 'I am Jude Jude Jude lala'\n",
    "print(re.match(r'Jude', text))\n",
    "print(re.match(r'I am', text).group(0))\n",
    "\n",
    "s = re.match(r'(.*) am (.*)', text)\n",
    "print(s.groups())\n",
    "s = re.match(r'.*(Jude).*', text)\n",
    "print(s.groups())\n"
   ]
  },
  {
   "cell_type": "markdown",
   "metadata": {},
   "source": [
    "**Non-greedy searching**<br>\n",
    "\n",
    "By default, + and * are greedy when it comes to searching. This means that it will try to capture everything until the last occurence of the pattern on the right. Here is an example."
   ]
  },
  {
   "cell_type": "code",
   "execution_count": 29,
   "metadata": {},
   "outputs": [
    {
     "name": "stdout",
     "output_type": "stream",
     "text": [
      "('I am Jude Jude ', ' lala')\n"
     ]
    }
   ],
   "source": [
    "s = re.match(r'(.*)Jude(.*)', text)\n",
    "print(s.groups())"
   ]
  },
  {
   "cell_type": "code",
   "execution_count": 30,
   "metadata": {},
   "outputs": [
    {
     "name": "stdout",
     "output_type": "stream",
     "text": [
      "2\n",
      "I am Jude Jude Jude lala\n",
      "I am Jude Jude \n",
      " lala\n"
     ]
    }
   ],
   "source": [
    "print(len(s.groups()))\n",
    "print(s[0]) # the first index contains the whole string\n",
    "print(s[1]) # the second index contains the first captured group\n",
    "print(s[2]) # the third index contains the second captured group"
   ]
  },
  {
   "cell_type": "markdown",
   "metadata": {},
   "source": [
    "To prevent greedy searching, we add `?` after * or +."
   ]
  },
  {
   "cell_type": "code",
   "execution_count": 31,
   "metadata": {},
   "outputs": [
    {
     "name": "stdout",
     "output_type": "stream",
     "text": [
      "('I am ', ' Jude Jude lala')\n"
     ]
    }
   ],
   "source": [
    "s = re.match(r'(.*?)Jude(.*)', text)\n",
    "print(s.groups())"
   ]
  },
  {
   "cell_type": "code",
   "execution_count": 32,
   "metadata": {},
   "outputs": [
    {
     "name": "stdout",
     "output_type": "stream",
     "text": [
      "2\n",
      "I am Jude Jude Jude lala\n",
      "I am \n",
      " Jude Jude lala\n"
     ]
    }
   ],
   "source": [
    "print(len(s.groups()))\n",
    "print(s[0]) # the first index contains the whole string\n",
    "print(s[1]) # the second index contains the first captured group\n",
    "print(s[2]) # the third index contains the second captured group"
   ]
  },
  {
   "cell_type": "markdown",
   "metadata": {},
   "source": [
    "**re.search**<br> \n",
    "\n",
    "similar to re.match but the pattern does not have to be at the start of the text"
   ]
  },
  {
   "cell_type": "code",
   "execution_count": 33,
   "metadata": {},
   "outputs": [
    {
     "name": "stdout",
     "output_type": "stream",
     "text": [
      "(' Jude Jude lala',)\n"
     ]
    }
   ],
   "source": [
    "text = 'I am Jude Jude Jude lala'\n",
    "s = re.search(r'Jude(.*)', text)\n",
    "\n",
    "print(s.groups())"
   ]
  },
  {
   "cell_type": "markdown",
   "metadata": {},
   "source": [
    "**re.findall**\n",
    "\n",
    "returns all strings that match the pattern.\n",
    "By default, regex is multi-line. It means that the next line is not considered when searching a specific line. We can use the re.S flag to treat the text as 1 gigantic string."
   ]
  },
  {
   "cell_type": "code",
   "execution_count": 34,
   "metadata": {},
   "outputs": [
    {
     "name": "stdout",
     "output_type": "stream",
     "text": [
      "['2018-07-12', '2018-07-12']\n",
      "['127.0.0.1', '127.0.0.1', '127.0.0.1', '127.0.0.1']\n"
     ]
    }
   ],
   "source": [
    "logs = '''2018-07-12 10:53:32 - (network)[INFO][127.0.0.1:57534]: GET http://127.0.0.1:8081/v1/get/landuse?lng=121.02787971496582&lat=14.606591351724205&d=500  200 1883\n",
    "2018-07-12 10:54:14 - (network)[INFO][127.0.0.1:57534]: GET http://127.0.0.1:8081/v1/get/landuse?lng=120.54113388061523&lat=14.67892177840028&d=500  200 1884'''\n",
    "\n",
    "#date\n",
    "s = re.findall(r'\\d{4}-\\d{2}-\\d{2}', logs)\n",
    "print(s)\n",
    "#ip\n",
    "s = re.findall(r'\\d{1,3}\\.\\d{1,3}\\.\\d{1,3}\\.\\d{1,3}', logs)\n",
    "print(s)\n"
   ]
  },
  {
   "cell_type": "markdown",
   "metadata": {},
   "source": [
    "Regex Lookahead is used to get words **before** a certain pattern"
   ]
  },
  {
   "cell_type": "code",
   "execution_count": 54,
   "metadata": {},
   "outputs": [
    {
     "name": "stdout",
     "output_type": "stream",
     "text": [
      "['jude hello paul hello khalma hello meow hello lala hello michael ']\n"
     ]
    }
   ],
   "source": [
    "text = 'jude hello paul hello khalma hello meow hello lala hello michael hello end'\n",
    "\n",
    "s = re.findall(r'.+(?=hello)', text)\n",
    "print(s)"
   ]
  },
  {
   "cell_type": "markdown",
   "metadata": {},
   "source": [
    "To make the searching non-greedy, we add `?`"
   ]
  },
  {
   "cell_type": "code",
   "execution_count": 55,
   "metadata": {},
   "outputs": [
    {
     "name": "stdout",
     "output_type": "stream",
     "text": [
      "['jude ', 'hello paul ', 'hello khalma ', 'hello meow ', 'hello lala ', 'hello michael ']\n"
     ]
    }
   ],
   "source": [
    "s = re.findall(r'.+?(?=hello)', text)\n",
    "print(s)"
   ]
  },
  {
   "cell_type": "markdown",
   "metadata": {},
   "source": [
    "Get words after hello"
   ]
  },
  {
   "cell_type": "code",
   "execution_count": 88,
   "metadata": {},
   "outputs": [
    {
     "name": "stdout",
     "output_type": "stream",
     "text": [
      "[' paul', ' khalma', ' meow', ' lala', ' michael', ' end']\n"
     ]
    }
   ],
   "source": [
    "s = re.findall(r'(?<=hello) \\w+', text)\n",
    "print(s)"
   ]
  },
  {
   "cell_type": "markdown",
   "metadata": {},
   "source": [
    "Get all words **between** hello"
   ]
  },
  {
   "cell_type": "code",
   "execution_count": 89,
   "metadata": {},
   "outputs": [
    {
     "name": "stdout",
     "output_type": "stream",
     "text": [
      "[' paul ', ' khalma ', ' meow ', ' lala ', ' michael ']\n"
     ]
    }
   ],
   "source": [
    "s = re.findall(r'(?<=hello).+?(?=hello)', text)\n",
    "print(s)"
   ]
  },
  {
   "cell_type": "markdown",
   "metadata": {},
   "source": [
    "Example using named captured group"
   ]
  },
  {
   "cell_type": "code",
   "execution_count": 90,
   "metadata": {},
   "outputs": [
    {
     "name": "stdout",
     "output_type": "stream",
     "text": [
      "[('def', '456', 'def'), ('def', '456', 'def')]\n"
     ]
    }
   ],
   "source": [
    "text = '''abc 123 def 456 def 789\n",
    "abc 123 def 456 def 789'''\n",
    "s = re.findall(r'(?P<letters>\\D{3}) (\\d{3}) ((?P=letters))', text)\n",
    "print(s)"
   ]
  },
  {
   "cell_type": "markdown",
   "metadata": {},
   "source": [
    "Answer for regex-logs homework."
   ]
  },
  {
   "cell_type": "code",
   "execution_count": 91,
   "metadata": {},
   "outputs": [
    {
     "data": {
      "text/plain": [
       "[{'bytes': '1883',\n",
       "  'date': '2018-07-12 10:53:32',\n",
       "  'err_msg': None,\n",
       "  'ip': '127.0.0.1:57534',\n",
       "  'method': 'GET',\n",
       "  'network': 'network',\n",
       "  'response_code': '200',\n",
       "  'severity': 'INFO',\n",
       "  'url': 'http://127.0.0.1:8081/v1/get/landuse?lng=121.02787971496582&lat=14.606591351724205&d=500'},\n",
       " {'bytes': '1884',\n",
       "  'date': '2018-07-12 10:54:14',\n",
       "  'err_msg': None,\n",
       "  'ip': '127.0.0.1:57534',\n",
       "  'method': 'GET',\n",
       "  'network': 'network',\n",
       "  'response_code': '200',\n",
       "  'severity': 'INFO',\n",
       "  'url': 'http://127.0.0.1:8081/v1/get/landuse?lng=120.54113388061523&lat=14.67892177840028&d=500'},\n",
       " {'bytes': '719',\n",
       "  'date': '2018-07-12 10:54:17',\n",
       "  'err_msg': None,\n",
       "  'ip': '127.0.0.1:57534',\n",
       "  'method': 'GET',\n",
       "  'network': 'network',\n",
       "  'response_code': '200',\n",
       "  'severity': 'INFO',\n",
       "  'url': 'http://127.0.0.1:8081/v1/get/landuse?lng=120.27711868286133&lat=14.82400863570895&d=500'},\n",
       " {'bytes': '345',\n",
       "  'date': '2018-07-12 10:54:20',\n",
       "  'err_msg': None,\n",
       "  'ip': '127.0.0.1:57534',\n",
       "  'method': 'GET',\n",
       "  'network': 'network',\n",
       "  'response_code': '200',\n",
       "  'severity': 'INFO',\n",
       "  'url': 'http://127.0.0.1:8081/v1/get/landuse?lng=120.91775894165039&lat=14.096787557861887&d=500'},\n",
       " {'date': '2018-07-12 11:48:05',\n",
       "  'err_msg': 'Traceback (most recent call last):\\n  File \"/Users/edavid/anaconda3/envs/server/lib/python3.6/site-packages/sanic/router.py\", line 356, in _get\\n    raise NotFound(\\'Requested URL {} not found\\'.format(url))\\nsanic.exceptions.NotFound: Requested URL /v1/get/not_exist not found\\n',\n",
       "  'network': 'sanic',\n",
       "  'severity': 'ERROR'},\n",
       " {'date': '2018-07-12 11:48:05',\n",
       "  'err_msg': 'Traceback (most recent call last):\\n  File \"/Users/edavid/anaconda3/envs/server/lib/python3.6/site-packages/sanic/router.py\", line 356, in _get\\n    raise NotFound(\\'Requested URL {} not found\\'.format(url))\\nsanic.exceptions.NotFound: Requested URL /v1/get/not_exist not found\\n',\n",
       "  'network': 'sanic',\n",
       "  'severity': 'ERROR'},\n",
       " {'bytes': '345',\n",
       "  'date': '2018-07-12 10:54:20',\n",
       "  'err_msg': None,\n",
       "  'ip': '127.0.0.1:57534',\n",
       "  'method': 'GET',\n",
       "  'network': 'network',\n",
       "  'response_code': '200',\n",
       "  'severity': 'INFO',\n",
       "  'url': 'http://127.0.0.1:8081/v1/get/landuse?lng=120.91775894165039&lat=14.096787557861887&d=500'},\n",
       " {'date': '2018-07-12 11:48:05',\n",
       "  'err_msg': 'Traceback (most recent call last):\\n  File \"/Users/edavid/anaconda3/envs/server/lib/python3.6/site-packages/sanic/router.py\", line 356, in _get\\n    raise NotFound(\\'Requested URL {} not found\\'.format(url))\\nsanic.exceptions.NotFound: Requested URL /v1/get/not_exist not found',\n",
       "  'network': 'sanic',\n",
       "  'severity': 'ERROR'}]"
      ]
     },
     "execution_count": 91,
     "metadata": {},
     "output_type": "execute_result"
    }
   ],
   "source": [
    "logs = '''2018-07-12 10:53:32 - (network)[INFO][127.0.0.1:57534]: GET http://127.0.0.1:8081/v1/get/landuse?lng=121.02787971496582&lat=14.606591351724205&d=500  200 1883\n",
    "2018-07-12 10:54:14 - (network)[INFO][127.0.0.1:57534]: GET http://127.0.0.1:8081/v1/get/landuse?lng=120.54113388061523&lat=14.67892177840028&d=500  200 1884\n",
    "2018-07-12 10:54:17 - (network)[INFO][127.0.0.1:57534]: GET http://127.0.0.1:8081/v1/get/landuse?lng=120.27711868286133&lat=14.82400863570895&d=500  200 719\n",
    "2018-07-12 10:54:20 - (network)[INFO][127.0.0.1:57534]: GET http://127.0.0.1:8081/v1/get/landuse?lng=120.91775894165039&lat=14.096787557861887&d=500  200 345\n",
    "2018-07-12 11:48:05 - (sanic)[ERROR]: Traceback (most recent call last):\n",
    "  File \"/Users/edavid/anaconda3/envs/server/lib/python3.6/site-packages/sanic/router.py\", line 356, in _get\n",
    "    raise NotFound('Requested URL {} not found'.format(url))\n",
    "sanic.exceptions.NotFound: Requested URL /v1/get/not_exist not found\n",
    "2018-07-12 11:48:05 - (sanic)[ERROR]: Traceback (most recent call last):\n",
    "  File \"/Users/edavid/anaconda3/envs/server/lib/python3.6/site-packages/sanic/router.py\", line 356, in _get\n",
    "    raise NotFound('Requested URL {} not found'.format(url))\n",
    "sanic.exceptions.NotFound: Requested URL /v1/get/not_exist not found\n",
    "2018-07-12 10:54:20 - (network)[INFO][127.0.0.1:57534]: GET http://127.0.0.1:8081/v1/get/landuse?lng=120.91775894165039&lat=14.096787557861887&d=500  200 345\n",
    "2018-07-12 11:48:05 - (sanic)[ERROR]: Traceback (most recent call last):\n",
    "  File \"/Users/edavid/anaconda3/envs/server/lib/python3.6/site-packages/sanic/router.py\", line 356, in _get\n",
    "    raise NotFound('Requested URL {} not found'.format(url))\n",
    "sanic.exceptions.NotFound: Requested URL /v1/get/not_exist not found'''\n",
    "\n",
    "\n",
    "lines = re.findall(r'.+?(?=\\d{4}-\\d{2})|.+', logs, flags=re.S)\n",
    "\n",
    "log_list = []\n",
    "for line in lines:\n",
    "    date = re.search(r'\\d{4}-\\d{2}-\\d{2} \\d{2}:\\d{2}:\\d{2}', line).group(0)\n",
    "    network = re.search(r'(?<=\\d{4}-\\d{2}-\\d{2} \\d{2}:\\d{2}:\\d{2} - \\()\\S+(?=\\))', line).group(0)\n",
    "    severity = re.search(r'(?<=\\)\\[)[A-Z]+(?=\\])', line).group(0)\n",
    "    \n",
    "    content = {'date':date, 'network':network, 'severity':severity}\n",
    "    if severity != 'ERROR':\n",
    "        ip = re.search(r'\\d{3}.\\d{1}.\\d{1}.\\d{1}:\\d{5}', line).group(0)\n",
    "        method = re.search(r'\\S+(?= http)', line).group(0)\n",
    "        url = re.search(r'http\\S+', line).group(0)\n",
    "        response_code = re.search(r'(?<=  )\\d+', line).group(0)\n",
    "        bytes_ = re.search(r'(?<=  \\d{3} )\\d+', line).group(0)\n",
    "        content['ip'] = ip\n",
    "        content['method'] = method\n",
    "        content['url'] = url\n",
    "        content['response_code'] = response_code\n",
    "        content['bytes'] = bytes_\n",
    "        content['err_msg'] = None\n",
    "    else:\n",
    "        content['err_msg'] = re.search(r'(?<=\\]: ).+', line, flags=re.S).group(0)\n",
    "    log_list.append(content)\n",
    "    \n",
    "log_list\n"
   ]
  },
  {
   "cell_type": "code",
   "execution_count": null,
   "metadata": {},
   "outputs": [],
   "source": []
  },
  {
   "cell_type": "code",
   "execution_count": null,
   "metadata": {},
   "outputs": [],
   "source": []
  }
 ],
 "metadata": {
  "celltoolbar": "Slideshow",
  "kernelspec": {
   "display_name": "Python 3",
   "language": "python",
   "name": "python3"
  },
  "language_info": {
   "codemirror_mode": {
    "name": "ipython",
    "version": 3
   },
   "file_extension": ".py",
   "mimetype": "text/x-python",
   "name": "python",
   "nbconvert_exporter": "python",
   "pygments_lexer": "ipython3",
   "version": "3.6.4"
  },
  "toc": {
   "base_numbering": 1,
   "nav_menu": {},
   "number_sections": true,
   "sideBar": true,
   "skip_h1_title": false,
   "title_cell": "Table of Contents",
   "title_sidebar": "Contents",
   "toc_cell": false,
   "toc_position": {
    "height": "calc(100% - 180px)",
    "left": "10px",
    "top": "150px",
    "width": "307px"
   },
   "toc_section_display": true,
   "toc_window_display": true
  }
 },
 "nbformat": 4,
 "nbformat_minor": 2
}
